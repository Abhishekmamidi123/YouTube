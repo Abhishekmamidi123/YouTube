{
  "nbformat": 4,
  "nbformat_minor": 0,
  "metadata": {
    "colab": {
      "name": "07 Modeling in PySpark using SparkML.ipynb",
      "provenance": [],
      "collapsed_sections": [],
      "toc_visible": true
    },
    "kernelspec": {
      "name": "python3",
      "display_name": "Python 3"
    },
    "language_info": {
      "name": "python"
    }
  },
  "cells": [
    {
      "cell_type": "markdown",
      "metadata": {
        "id": "WZdCWj0J-h37"
      },
      "source": [
        "## Welcome to this course \"Getting started with Apache Spark\"\n",
        "## Video: Modeling in PySpark using SparkML\n",
        "\n",
        "![PySpark](https://drive.google.com/uc?id=1oU2tHXn4Tb4NJ0GQLbFQanLUVWj-3M-G)"
      ]
    },
    {
      "cell_type": "markdown",
      "metadata": {
        "id": "uxgd2dUX84JY"
      },
      "source": [
        "## Contents\n",
        "- Setting up the environment\n",
        "- Read data\n",
        "- Preprocessing data using SparkML\n",
        "- Modeling using SparkML\n",
        "- Prediction on Test data\n",
        "- Evaluation of predictions"
      ]
    },
    {
      "cell_type": "markdown",
      "metadata": {
        "id": "lZOGrY2mf5wK"
      },
      "source": [
        "## Setting up the PySpark environment\n",
        "- Check out this video for more details: https://www.youtube.com/watch?v=r5PbUuLUZiE\n",
        "  - You can check out the link in the description below\n",
        "- You can use the below cell to install all the required libraries and files"
      ]
    },
    {
      "cell_type": "code",
      "metadata": {
        "id": "l7C3o1Vqp5De",
        "colab": {
          "base_uri": "https://localhost:8080/"
        },
        "outputId": "690c86c4-d522-4077-a199-e1b64759b9b2"
      },
      "source": [
        "# Setting up the PySpark environment\n",
        "\n",
        "# Install java 8\n",
        "!apt-get update\n",
        "!apt-get install openjdk-8-jdk-headless -qq > /dev/null\n",
        "\n",
        "# Download Apache Spark binary: This link can change based on the version. Update this link with the latest version before using\n",
        "!wget -q https://downloads.apache.org/spark/spark-3.0.2/spark-3.0.2-bin-hadoop2.7.tgz\n",
        "\n",
        "# Unzip file\n",
        "!tar -xf spark-3.0.2-bin-hadoop2.7.tgz\n",
        "\n",
        "# Install findspark: Adds Pyspark to sys.path at runtime\n",
        "!pip install -q findspark\n",
        "\n",
        "# Install pyspark\n",
        "!pip install pyspark\n",
        "\n",
        "# Add environmental variables\n",
        "import os\n",
        "os.environ[\"JAVA_HOME\"] = \"/usr/lib/jvm/java-8-openjdk-amd64\"\n",
        "os.environ[\"SPARK_HOME\"] = \"/content/spark-3.0.2-bin-hadoop2.7\"\n",
        "\n",
        "# findspark will locate spark in the system\n",
        "import findspark\n",
        "findspark.init()"
      ],
      "execution_count": 1,
      "outputs": [
        {
          "output_type": "stream",
          "text": [
            "\r0% [Working]\r            \rHit:1 https://cloud.r-project.org/bin/linux/ubuntu bionic-cran40/ InRelease\n",
            "Ign:2 https://developer.download.nvidia.com/compute/cuda/repos/ubuntu1804/x86_64  InRelease\n",
            "Ign:3 https://developer.download.nvidia.com/compute/machine-learning/repos/ubuntu1804/x86_64  InRelease\n",
            "Hit:4 https://developer.download.nvidia.com/compute/cuda/repos/ubuntu1804/x86_64  Release\n",
            "Hit:5 https://developer.download.nvidia.com/compute/machine-learning/repos/ubuntu1804/x86_64  Release\n",
            "Hit:6 http://ppa.launchpad.net/c2d4u.team/c2d4u4.0+/ubuntu bionic InRelease\n",
            "Get:7 http://security.ubuntu.com/ubuntu bionic-security InRelease [88.7 kB]\n",
            "Hit:9 http://archive.ubuntu.com/ubuntu bionic InRelease\n",
            "Get:11 http://archive.ubuntu.com/ubuntu bionic-updates InRelease [88.7 kB]\n",
            "Hit:12 http://ppa.launchpad.net/cran/libgit2/ubuntu bionic InRelease\n",
            "Hit:13 http://ppa.launchpad.net/deadsnakes/ppa/ubuntu bionic InRelease\n",
            "Get:14 http://archive.ubuntu.com/ubuntu bionic-backports InRelease [74.6 kB]\n",
            "Hit:15 http://ppa.launchpad.net/graphics-drivers/ppa/ubuntu bionic InRelease\n",
            "Fetched 252 kB in 2s (106 kB/s)\n",
            "Reading package lists... Done\n",
            "Requirement already satisfied: pyspark in /usr/local/lib/python3.7/dist-packages (3.1.2)\n",
            "Requirement already satisfied: py4j==0.10.9 in /usr/local/lib/python3.7/dist-packages (from pyspark) (0.10.9)\n"
          ],
          "name": "stdout"
        }
      ]
    },
    {
      "cell_type": "markdown",
      "metadata": {
        "id": "9tdA-RWoozaM"
      },
      "source": [
        "### Initialize SparkSession"
      ]
    },
    {
      "cell_type": "code",
      "metadata": {
        "id": "VecXeDgQRfgw"
      },
      "source": [
        "from pyspark.sql import SparkSession\n",
        "\n",
        "spark = SparkSession.builder \\\n",
        "        .master(\"local\") \\\n",
        "        .appName(\"Hands-on PySpark on Google Colab\") \\\n",
        "        .getOrCreate()"
      ],
      "execution_count": 2,
      "outputs": []
    },
    {
      "cell_type": "code",
      "metadata": {
        "id": "HyNSC9w52GXz",
        "colab": {
          "base_uri": "https://localhost:8080/",
          "height": 214
        },
        "outputId": "6101d25d-9529-4ec5-9bb7-6e3111f4e3bc"
      },
      "source": [
        "spark"
      ],
      "execution_count": 3,
      "outputs": [
        {
          "output_type": "execute_result",
          "data": {
            "text/html": [
              "\n",
              "            <div>\n",
              "                <p><b>SparkSession - in-memory</b></p>\n",
              "                \n",
              "        <div>\n",
              "            <p><b>SparkContext</b></p>\n",
              "\n",
              "            <p><a href=\"http://776430246f36:4040\">Spark UI</a></p>\n",
              "\n",
              "            <dl>\n",
              "              <dt>Version</dt>\n",
              "                <dd><code>v3.0.2</code></dd>\n",
              "              <dt>Master</dt>\n",
              "                <dd><code>local</code></dd>\n",
              "              <dt>AppName</dt>\n",
              "                <dd><code>Hands-on PySpark on Google Colab</code></dd>\n",
              "            </dl>\n",
              "        </div>\n",
              "        \n",
              "            </div>\n",
              "        "
            ],
            "text/plain": [
              "<pyspark.sql.session.SparkSession at 0x7f7021a8fa90>"
            ]
          },
          "metadata": {
            "tags": []
          },
          "execution_count": 3
        }
      ]
    },
    {
      "cell_type": "markdown",
      "metadata": {
        "id": "FkxPdO75nLrH"
      },
      "source": [
        "### Read data\n",
        "Dataset (Wine quality red): https://archive.ics.uci.edu/ml/machine-learning-databases/wine-quality/winequality-red.csv"
      ]
    },
    {
      "cell_type": "code",
      "metadata": {
        "id": "bLhz2C8EiP5o"
      },
      "source": [
        "!wget -q https://archive.ics.uci.edu/ml/machine-learning-databases/wine-quality/winequality-red.csv -P sample_data/"
      ],
      "execution_count": 4,
      "outputs": []
    },
    {
      "cell_type": "code",
      "metadata": {
        "id": "Co-iMsc8V_H-",
        "colab": {
          "base_uri": "https://localhost:8080/"
        },
        "outputId": "5f9771aa-8e16-4b6a-8258-a43188539195"
      },
      "source": [
        "# We can set header='true' and inferSchema='true' to infer the schema while reading the data\n",
        "\n",
        "filepath = \"sample_data/winequality-red.csv\"\n",
        "spark_df = spark.read.format('csv').options(header='true', inferSchema='true', delimiter=\";\").load(filepath)\n",
        "spark_df.show(5, truncate=False)"
      ],
      "execution_count": 5,
      "outputs": [
        {
          "output_type": "stream",
          "text": [
            "+-------------+----------------+-----------+--------------+---------+-------------------+--------------------+-------+----+---------+-------+-------+\n",
            "|fixed acidity|volatile acidity|citric acid|residual sugar|chlorides|free sulfur dioxide|total sulfur dioxide|density|pH  |sulphates|alcohol|quality|\n",
            "+-------------+----------------+-----------+--------------+---------+-------------------+--------------------+-------+----+---------+-------+-------+\n",
            "|7.4          |0.7             |0.0        |1.9           |0.076    |11.0               |34.0                |0.9978 |3.51|0.56     |9.4    |5      |\n",
            "|7.8          |0.88            |0.0        |2.6           |0.098    |25.0               |67.0                |0.9968 |3.2 |0.68     |9.8    |5      |\n",
            "|7.8          |0.76            |0.04       |2.3           |0.092    |15.0               |54.0                |0.997  |3.26|0.65     |9.8    |5      |\n",
            "|11.2         |0.28            |0.56       |1.9           |0.075    |17.0               |60.0                |0.998  |3.16|0.58     |9.8    |6      |\n",
            "|7.4          |0.7             |0.0        |1.9           |0.076    |11.0               |34.0                |0.9978 |3.51|0.56     |9.4    |5      |\n",
            "+-------------+----------------+-----------+--------------+---------+-------------------+--------------------+-------+----+---------+-------+-------+\n",
            "only showing top 5 rows\n",
            "\n"
          ],
          "name": "stdout"
        }
      ]
    },
    {
      "cell_type": "markdown",
      "metadata": {
        "id": "67dhT84UQhli"
      },
      "source": [
        "## Introduction"
      ]
    },
    {
      "cell_type": "code",
      "metadata": {
        "id": "SYl9OrelQqlR"
      },
      "source": [
        "from pyspark.sql import functions as F\n",
        "from pyspark.sql import types as T\n",
        "\n",
        "# StringIndexer is similar to labelencoder which gives a label to each category\n",
        "# OneHotEncoder created onehot encoding vector\n",
        "from pyspark.ml.feature import StringIndexer, OneHotEncoder\n",
        "\n",
        "# VectorAssembler is used to create vector from the features. MOdeling takes vector as an input\n",
        "from pyspark.ml.feature import VectorAssembler\n",
        "\n",
        "# DecisionTreeClassifier is used for classiication problems\n",
        "from pyspark.ml.classification import DecisionTreeClassifier"
      ],
      "execution_count": 6,
      "outputs": []
    },
    {
      "cell_type": "code",
      "metadata": {
        "colab": {
          "base_uri": "https://localhost:8080/"
        },
        "id": "BLPMAMd9cWn8",
        "outputId": "6ae24dee-d493-49d3-947f-44fba70eedbf"
      },
      "source": [
        "# Create a categorical column for explanation purpose\n",
        "spark_df = spark_df.withColumn(\"alcohol\", F.when(F.col(\"alcohol\") > 10.5, \"High\").otherwise(\"Low\"))\n",
        "spark_df.show(3, truncate=False)\n",
        "\n",
        "spark_df.groupby(\"alcohol\").count().show(), spark_df.select(\"quality\").distinct().show()"
      ],
      "execution_count": 7,
      "outputs": [
        {
          "output_type": "stream",
          "text": [
            "+-------------+----------------+-----------+--------------+---------+-------------------+--------------------+-------+----+---------+-------+-------+\n",
            "|fixed acidity|volatile acidity|citric acid|residual sugar|chlorides|free sulfur dioxide|total sulfur dioxide|density|pH  |sulphates|alcohol|quality|\n",
            "+-------------+----------------+-----------+--------------+---------+-------------------+--------------------+-------+----+---------+-------+-------+\n",
            "|7.4          |0.7             |0.0        |1.9           |0.076    |11.0               |34.0                |0.9978 |3.51|0.56     |Low    |5      |\n",
            "|7.8          |0.88            |0.0        |2.6           |0.098    |25.0               |67.0                |0.9968 |3.2 |0.68     |Low    |5      |\n",
            "|7.8          |0.76            |0.04       |2.3           |0.092    |15.0               |54.0                |0.997  |3.26|0.65     |Low    |5      |\n",
            "+-------------+----------------+-----------+--------------+---------+-------------------+--------------------+-------+----+---------+-------+-------+\n",
            "only showing top 3 rows\n",
            "\n",
            "+-------+-----+\n",
            "|alcohol|count|\n",
            "+-------+-----+\n",
            "|   High|  616|\n",
            "|    Low|  983|\n",
            "+-------+-----+\n",
            "\n",
            "+-------+\n",
            "|quality|\n",
            "+-------+\n",
            "|      6|\n",
            "|      3|\n",
            "|      5|\n",
            "|      4|\n",
            "|      8|\n",
            "|      7|\n",
            "+-------+\n",
            "\n"
          ],
          "name": "stdout"
        },
        {
          "output_type": "execute_result",
          "data": {
            "text/plain": [
              "(None, None)"
            ]
          },
          "metadata": {
            "tags": []
          },
          "execution_count": 7
        }
      ]
    },
    {
      "cell_type": "code",
      "metadata": {
        "colab": {
          "base_uri": "https://localhost:8080/"
        },
        "id": "MyrNkQG2Vu8m",
        "outputId": "369bcc7a-c386-43d1-8528-7df567ea3c6d"
      },
      "source": [
        "(train_df, test_df) = spark_df.randomSplit([0.8, 0.2], 11)\n",
        "print(\"Number of train samples: \" + str(train_df.count()))\n",
        "print(\"Number of test samples: \" + str(test_df.count()))"
      ],
      "execution_count": 8,
      "outputs": [
        {
          "output_type": "stream",
          "text": [
            "Number of train samples: 1279\n",
            "Number of test samples: 320\n"
          ],
          "name": "stdout"
        }
      ]
    },
    {
      "cell_type": "markdown",
      "metadata": {
        "id": "aDhB1fmOQKYV"
      },
      "source": [
        "## Modeling"
      ]
    },
    {
      "cell_type": "code",
      "metadata": {
        "colab": {
          "base_uri": "https://localhost:8080/"
        },
        "id": "o9AcffeUQcmN",
        "outputId": "679df1b0-67e8-45ea-d168-707c1c55c707"
      },
      "source": [
        "train_df.show(3, truncate=False)"
      ],
      "execution_count": 9,
      "outputs": [
        {
          "output_type": "stream",
          "text": [
            "+-------------+----------------+-----------+--------------+---------+-------------------+--------------------+-------+----+---------+-------+-------+\n",
            "|fixed acidity|volatile acidity|citric acid|residual sugar|chlorides|free sulfur dioxide|total sulfur dioxide|density|pH  |sulphates|alcohol|quality|\n",
            "+-------------+----------------+-----------+--------------+---------+-------------------+--------------------+-------+----+---------+-------+-------+\n",
            "|4.6          |0.52            |0.15       |2.1           |0.054    |8.0                |65.0                |0.9934 |3.9 |0.56     |High   |4      |\n",
            "|4.7          |0.6             |0.17       |2.3           |0.058    |17.0               |106.0               |0.9932 |3.85|0.6      |High   |6      |\n",
            "|4.9          |0.42            |0.0        |2.1           |0.048    |16.0               |42.0                |0.99154|3.71|0.74     |High   |7      |\n",
            "+-------------+----------------+-----------+--------------+---------+-------------------+--------------------+-------+----+---------+-------+-------+\n",
            "only showing top 3 rows\n",
            "\n"
          ],
          "name": "stdout"
        }
      ]
    },
    {
      "cell_type": "code",
      "metadata": {
        "id": "oiMohirvO0Wv",
        "colab": {
          "base_uri": "https://localhost:8080/"
        },
        "outputId": "762ee700-df06-4e3d-84da-1ab960f65f5f"
      },
      "source": [
        "alcohol_indexer = StringIndexer(inputCol=\"alcohol\", outputCol=\"alcoholIndex\")\n",
        "alcohol_indexer = alcohol_indexer.fit(train_df)\n",
        "train_df = alcohol_indexer.transform(train_df)\n",
        "train_df.show(3, truncate=False)"
      ],
      "execution_count": 10,
      "outputs": [
        {
          "output_type": "stream",
          "text": [
            "+-------------+----------------+-----------+--------------+---------+-------------------+--------------------+-------+----+---------+-------+-------+------------+\n",
            "|fixed acidity|volatile acidity|citric acid|residual sugar|chlorides|free sulfur dioxide|total sulfur dioxide|density|pH  |sulphates|alcohol|quality|alcoholIndex|\n",
            "+-------------+----------------+-----------+--------------+---------+-------------------+--------------------+-------+----+---------+-------+-------+------------+\n",
            "|4.6          |0.52            |0.15       |2.1           |0.054    |8.0                |65.0                |0.9934 |3.9 |0.56     |High   |4      |1.0         |\n",
            "|4.7          |0.6             |0.17       |2.3           |0.058    |17.0               |106.0               |0.9932 |3.85|0.6      |High   |6      |1.0         |\n",
            "|4.9          |0.42            |0.0        |2.1           |0.048    |16.0               |42.0                |0.99154|3.71|0.74     |High   |7      |1.0         |\n",
            "+-------------+----------------+-----------+--------------+---------+-------------------+--------------------+-------+----+---------+-------+-------+------------+\n",
            "only showing top 3 rows\n",
            "\n"
          ],
          "name": "stdout"
        }
      ]
    },
    {
      "cell_type": "code",
      "metadata": {
        "colab": {
          "base_uri": "https://localhost:8080/"
        },
        "id": "5UTzTbleScqE",
        "outputId": "18fd7771-9bbb-4941-c3a6-3555dbfe3884"
      },
      "source": [
        "print(train_df.columns)"
      ],
      "execution_count": 11,
      "outputs": [
        {
          "output_type": "stream",
          "text": [
            "['fixed acidity', 'volatile acidity', 'citric acid', 'residual sugar', 'chlorides', 'free sulfur dioxide', 'total sulfur dioxide', 'density', 'pH', 'sulphates', 'alcohol', 'quality', 'alcoholIndex']\n"
          ],
          "name": "stdout"
        }
      ]
    },
    {
      "cell_type": "code",
      "metadata": {
        "id": "cL_RVJk7SarP"
      },
      "source": [
        "inputCols = ['fixed acidity', 'volatile acidity', 'citric acid', 'residual sugar', 'chlorides', 'free sulfur dioxide', 'total sulfur dioxide', 'density', 'pH', 'sulphates', 'alcoholIndex']\n",
        "\n",
        "outputCol = \"features\"\n",
        "vector_assembler = VectorAssembler(inputCols = inputCols, outputCol = outputCol)\n",
        "train_df = vector_assembler.transform(train_df)"
      ],
      "execution_count": 12,
      "outputs": []
    },
    {
      "cell_type": "code",
      "metadata": {
        "colab": {
          "base_uri": "https://localhost:8080/"
        },
        "id": "1LkkY1JgS3pj",
        "outputId": "80233cd1-e94b-4ac8-8268-8d35554c6342"
      },
      "source": [
        "train_df.show(3, truncate=False)"
      ],
      "execution_count": 13,
      "outputs": [
        {
          "output_type": "stream",
          "text": [
            "+-------------+----------------+-----------+--------------+---------+-------------------+--------------------+-------+----+---------+-------+-------+------------+--------------------------------------------------------+\n",
            "|fixed acidity|volatile acidity|citric acid|residual sugar|chlorides|free sulfur dioxide|total sulfur dioxide|density|pH  |sulphates|alcohol|quality|alcoholIndex|features                                                |\n",
            "+-------------+----------------+-----------+--------------+---------+-------------------+--------------------+-------+----+---------+-------+-------+------------+--------------------------------------------------------+\n",
            "|4.6          |0.52            |0.15       |2.1           |0.054    |8.0                |65.0                |0.9934 |3.9 |0.56     |High   |4      |1.0         |[4.6,0.52,0.15,2.1,0.054,8.0,65.0,0.9934,3.9,0.56,1.0]  |\n",
            "|4.7          |0.6             |0.17       |2.3           |0.058    |17.0               |106.0               |0.9932 |3.85|0.6      |High   |6      |1.0         |[4.7,0.6,0.17,2.3,0.058,17.0,106.0,0.9932,3.85,0.6,1.0] |\n",
            "|4.9          |0.42            |0.0        |2.1           |0.048    |16.0               |42.0                |0.99154|3.71|0.74     |High   |7      |1.0         |[4.9,0.42,0.0,2.1,0.048,16.0,42.0,0.99154,3.71,0.74,1.0]|\n",
            "+-------------+----------------+-----------+--------------+---------+-------------------+--------------------+-------+----+---------+-------+-------+------------+--------------------------------------------------------+\n",
            "only showing top 3 rows\n",
            "\n"
          ],
          "name": "stdout"
        }
      ]
    },
    {
      "cell_type": "code",
      "metadata": {
        "colab": {
          "base_uri": "https://localhost:8080/"
        },
        "id": "yyJDIDDPS8sk",
        "outputId": "2f0fb4a6-1083-4d41-b655-8f4f560c1566"
      },
      "source": [
        "modeling_df = train_df.select(['features', 'quality'])\n",
        "modeling_df.show(3, truncate=False)"
      ],
      "execution_count": 14,
      "outputs": [
        {
          "output_type": "stream",
          "text": [
            "+--------------------------------------------------------+-------+\n",
            "|features                                                |quality|\n",
            "+--------------------------------------------------------+-------+\n",
            "|[4.6,0.52,0.15,2.1,0.054,8.0,65.0,0.9934,3.9,0.56,1.0]  |4      |\n",
            "|[4.7,0.6,0.17,2.3,0.058,17.0,106.0,0.9932,3.85,0.6,1.0] |6      |\n",
            "|[4.9,0.42,0.0,2.1,0.048,16.0,42.0,0.99154,3.71,0.74,1.0]|7      |\n",
            "+--------------------------------------------------------+-------+\n",
            "only showing top 3 rows\n",
            "\n"
          ],
          "name": "stdout"
        }
      ]
    },
    {
      "cell_type": "code",
      "metadata": {
        "id": "SN9IRtXpS3mT"
      },
      "source": [
        "# Create DecisionTreeClassifier model\n",
        "dt_model = DecisionTreeClassifier(labelCol=\"quality\", featuresCol=\"features\")\n",
        "\n",
        "# Train model with Training Data\n",
        "dt_model = dt_model.fit(modeling_df)"
      ],
      "execution_count": 15,
      "outputs": []
    },
    {
      "cell_type": "code",
      "metadata": {
        "colab": {
          "base_uri": "https://localhost:8080/"
        },
        "id": "l6phLPMLS3j9",
        "outputId": "6f0cb3c1-5783-4115-de67-b5d0c3883fe5"
      },
      "source": [
        "predictions = dt_model.transform(modeling_df)\n",
        "predictions.show(5, truncate=False)"
      ],
      "execution_count": 16,
      "outputs": [
        {
          "output_type": "stream",
          "text": [
            "+--------------------------------------------------------+-------+----------------------------------------+----------------------------------------------------------------------------------------------------------------------+----------+\n",
            "|features                                                |quality|rawPrediction                           |probability                                                                                                           |prediction|\n",
            "+--------------------------------------------------------+-------+----------------------------------------+----------------------------------------------------------------------------------------------------------------------+----------+\n",
            "|[4.6,0.52,0.15,2.1,0.054,8.0,65.0,0.9934,3.9,0.56,1.0]  |4      |[0.0,0.0,0.0,3.0,4.0,31.0,11.0,1.0,0.0] |[0.0,0.0,0.0,0.06,0.08,0.62,0.22,0.02,0.0]                                                                            |5.0       |\n",
            "|[4.7,0.6,0.17,2.3,0.058,17.0,106.0,0.9932,3.85,0.6,1.0] |6      |[0.0,0.0,0.0,0.0,0.0,0.0,1.0,4.0,2.0]   |[0.0,0.0,0.0,0.0,0.0,0.0,0.14285714285714285,0.5714285714285714,0.2857142857142857]                                   |7.0       |\n",
            "|[4.9,0.42,0.0,2.1,0.048,16.0,42.0,0.99154,3.71,0.74,1.0]|7      |[0.0,0.0,0.0,0.0,9.0,20.0,89.0,16.0,0.0]|[0.0,0.0,0.0,0.0,0.06716417910447761,0.14925373134328357,0.664179104477612,0.11940298507462686,0.0]                   |6.0       |\n",
            "|[5.0,0.38,0.01,1.6,0.048,26.0,60.0,0.99084,3.7,0.75,1.0]|6      |[0.0,0.0,0.0,0.0,9.0,20.0,89.0,16.0,0.0]|[0.0,0.0,0.0,0.0,0.06716417910447761,0.14925373134328357,0.664179104477612,0.11940298507462686,0.0]                   |6.0       |\n",
            "|[5.0,0.4,0.5,4.3,0.046,29.0,80.0,0.9902,3.49,0.66,1.0]  |6      |[0.0,0.0,0.0,0.0,1.0,17.0,68.0,32.0,2.0]|[0.0,0.0,0.0,0.0,0.008333333333333333,0.14166666666666666,0.5666666666666667,0.26666666666666666,0.016666666666666666]|6.0       |\n",
            "+--------------------------------------------------------+-------+----------------------------------------+----------------------------------------------------------------------------------------------------------------------+----------+\n",
            "only showing top 5 rows\n",
            "\n"
          ],
          "name": "stdout"
        }
      ]
    },
    {
      "cell_type": "code",
      "metadata": {
        "colab": {
          "base_uri": "https://localhost:8080/"
        },
        "id": "2an50dsGD0Ut",
        "outputId": "6bd90437-8330-41c9-c5db-364911441bd8"
      },
      "source": [
        "from pyspark.ml.evaluation import MulticlassClassificationEvaluator\n",
        "\n",
        "evaluatorDT = MulticlassClassificationEvaluator(labelCol=\"quality\")\n",
        "area_under_curve = evaluatorDT.evaluate(predictions)\n",
        "\n",
        "print(area_under_curve)"
      ],
      "execution_count": 17,
      "outputs": [
        {
          "output_type": "stream",
          "text": [
            "0.6096614519053557\n"
          ],
          "name": "stdout"
        }
      ]
    },
    {
      "cell_type": "markdown",
      "metadata": {
        "id": "vUDs07YVXUCc"
      },
      "source": [
        "## Test predictions"
      ]
    },
    {
      "cell_type": "code",
      "metadata": {
        "colab": {
          "base_uri": "https://localhost:8080/"
        },
        "id": "YS7vzFqOWKj8",
        "outputId": "889ea27b-852b-41f4-b1b0-986b3e3378e5"
      },
      "source": [
        "# On Test data - Transform test data using all the transformers and estimators in the same order \n",
        "\n",
        "test_df = alcohol_indexer.transform(test_df)\n",
        "test_df = vector_assembler.transform(test_df)\n",
        "test_predictions = dt_model.transform(test_df)\n",
        "\n",
        "test_predictions.show(3, truncate=False)"
      ],
      "execution_count": 18,
      "outputs": [
        {
          "output_type": "stream",
          "text": [
            "+-------------+----------------+-----------+--------------+---------+-------------------+--------------------+-------+----+---------+-------+-------+------------+---------------------------------------------------------+----------------------------------------+---------------------------------------------------------------------------------------------------+----------+\n",
            "|fixed acidity|volatile acidity|citric acid|residual sugar|chlorides|free sulfur dioxide|total sulfur dioxide|density|pH  |sulphates|alcohol|quality|alcoholIndex|features                                                 |rawPrediction                           |probability                                                                                        |prediction|\n",
            "+-------------+----------------+-----------+--------------+---------+-------------------+--------------------+-------+----+---------+-------+-------+------------+---------------------------------------------------------+----------------------------------------+---------------------------------------------------------------------------------------------------+----------+\n",
            "|5.0          |0.42            |0.24       |2.0           |0.06     |19.0               |50.0                |0.9917 |3.72|0.74     |High   |8      |1.0         |[5.0,0.42,0.24,2.0,0.06,19.0,50.0,0.9917,3.72,0.74,1.0]  |[0.0,0.0,0.0,0.0,9.0,20.0,89.0,16.0,0.0]|[0.0,0.0,0.0,0.0,0.06716417910447761,0.14925373134328357,0.664179104477612,0.11940298507462686,0.0]|6.0       |\n",
            "|5.0          |0.74            |0.0        |1.2           |0.041    |16.0               |46.0                |0.99258|4.01|0.59     |High   |6      |1.0         |[5.0,0.74,0.0,1.2,0.041,16.0,46.0,0.99258,4.01,0.59,1.0] |[0.0,0.0,0.0,0.0,9.0,20.0,89.0,16.0,0.0]|[0.0,0.0,0.0,0.0,0.06716417910447761,0.14925373134328357,0.664179104477612,0.11940298507462686,0.0]|6.0       |\n",
            "|5.1          |0.585           |0.0        |1.7           |0.044    |14.0               |86.0                |0.99264|3.56|0.94     |High   |7      |1.0         |[5.1,0.585,0.0,1.7,0.044,14.0,86.0,0.99264,3.56,0.94,1.0]|[0.0,0.0,0.0,0.0,0.0,0.0,1.0,4.0,2.0]   |[0.0,0.0,0.0,0.0,0.0,0.0,0.14285714285714285,0.5714285714285714,0.2857142857142857]                |7.0       |\n",
            "+-------------+----------------+-----------+--------------+---------+-------------------+--------------------+-------+----+---------+-------+-------+------------+---------------------------------------------------------+----------------------------------------+---------------------------------------------------------------------------------------------------+----------+\n",
            "only showing top 3 rows\n",
            "\n"
          ],
          "name": "stdout"
        }
      ]
    },
    {
      "cell_type": "code",
      "metadata": {
        "colab": {
          "base_uri": "https://localhost:8080/"
        },
        "id": "ExkV4pLCVgnk",
        "outputId": "1fd3112b-086d-4279-96bf-6d3992fa95df"
      },
      "source": [
        "area_under_curve = evaluatorDT.evaluate(test_predictions)\n",
        "area_under_curve"
      ],
      "execution_count": 19,
      "outputs": [
        {
          "output_type": "execute_result",
          "data": {
            "text/plain": [
              "0.5816548284862043"
            ]
          },
          "metadata": {
            "tags": []
          },
          "execution_count": 19
        }
      ]
    },
    {
      "cell_type": "markdown",
      "metadata": {
        "id": "D4ck1DNB4HBL"
      },
      "source": [
        "## Summary\n",
        "- We have seen how to build models in PySpark using SparkML\n",
        "- In the next video, we will see how to make the whole process simple using Pipelines."
      ]
    },
    {
      "cell_type": "markdown",
      "metadata": {
        "id": "VgaK8JRu4xnV"
      },
      "source": [
        "### Thank you :)\n",
        "-  That's the end of the this video. If you like this video, please do like, share and subscribe to my channel.\n",
        "- If you are on LinkedIn, please tag me and share your thoughts on this video and the series \"Getting started with PySpark - Hands on\". This will motivate me to make more videos.\n",
        "<div>\n",
        "<img src=\"https://drive.google.com/uc?id=1ttB2gJaw0cXuJfj6GBx5VaYf2ArjiRXM\" width=\"200\"/>\n",
        "</div>"
      ]
    },
    {
      "cell_type": "code",
      "metadata": {
        "id": "pCEnrMOm4zO-"
      },
      "source": [
        ""
      ],
      "execution_count": null,
      "outputs": []
    }
  ]
}